{
  "nbformat": 4,
  "nbformat_minor": 0,
  "metadata": {
    "colab": {
      "name": "Untitled8.ipynb",
      "provenance": []
    },
    "kernelspec": {
      "name": "python3",
      "display_name": "Python 3"
    }
  },
  "cells": [
    {
      "cell_type": "markdown",
      "metadata": {
        "id": "jluN_r-JZ9fD"
      },
      "source": [
        "### 3.2.2 Classifying users with community Detection and sentiment analysis"
      ]
    },
    {
      "cell_type": "markdown",
      "metadata": {
        "id": "vrmIbVKiEjaX"
      },
      "source": [
        "#### 3.2.2.1 Motive"
      ]
    },
    {
      "cell_type": "markdown",
      "metadata": {
        "id": "sQU24EWJL78h"
      },
      "source": [
        "This section is about how to approach the network in terms of partitioning. The immediate intention of this project was to investigate differences and simmiliarities across cadidate supports on reddit. However this approach presumes that users posting comments on a candidate subreddit do in fact support the cadidate. This might be an naiv assumption without any further investigation. \n",
        "\n",
        "By turning the appraoching upside down we can look into the significant community structures within the graph and check whether these corralates with the users from_subreddit attribute. **This will reviel the optimal partioning for the two candidate supporter groups (ved ikke helt hvad jeg skal skrive lol)** or whether talking about trump and biden supporters as such is misleading in this context.\n"
      ]
    },
    {
      "cell_type": "markdown",
      "metadata": {
        "id": "sncSZxNWMv2Z"
      },
      "source": [
        "#### 3.2.2.2 Tools"
      ]
    },
    {
      "cell_type": "markdown",
      "metadata": {
        "id": "hmaOuU29OvjL"
      },
      "source": [
        "**Modularity scores to detect community structures**\n",
        "\n",
        "To validate the different partitionings of the network modularity is used. Modularity is a score that ranges from $[-\\frac{1}{2}\\  ; 1]$ and compares the wiring within communities with wiring across communities. \n",
        "\n",
        "Modularity for a partioning of $n_c$ communities:\n",
        "\n",
        "\n",
        "$$M_{c}=\\sum_{c=1}^{n_c}\\left[ \\frac{L_c}{L}- \\left( \\frac{k_c}{2L} \\right) ^2 \\right]$$\n",
        "\n",
        "\\\\\n",
        "With $L_c$ being links within the community $C_c$ and $k_c$ being the total degree the nodes in the community.\n",
        "\n",
        "In a paper on community detection$^{[1]}$ it is stated that a modularity differing from 0 indicates a deviation from randomness, but that a score on above 0.3 is required before a significant community structure can be found in the network.\n",
        "\n",
        "*$[1]$: Fast algorithm for detecting community structure in networks. M. E. J. Newman*\n",
        "\n",
        "\n"
      ]
    },
    {
      "cell_type": "markdown",
      "metadata": {
        "id": "nMkg4MYx0hGD"
      },
      "source": [
        "**Louvain for optimal partitioning**\n",
        "\n",
        "Louvain algorithm is used to identify \"the best\" community partitioning in the graph. The algorithm belongs to the class of modularity maximization algorithms for community detection. Thus our search for community structure is following hypothesis H4 (Barabasi, section 9.4), namely that the partition of maximal modularity corresponds to the optimal community structure. \n",
        "\n",
        "According to the paper (Blondel et. alia 2008) (https://arxiv.org/abs/0803.0476) the algorithm works in two phases that repeats iteratively:\n",
        "\n",
        "***Phase one***: Each node $i$ in a network of $N$ nodes is divided into a community for each node. Then for each neighbor $j$ of $i$, the algorithm calculates the gain in modularity $\\Delta Q$ that would be achived by placing $i$ in $j$'s community $C$. This gain is calculated by \n",
        "\n",
        "$$\n",
        "\\Delta Q = \\big[ \\frac{\\sum_{in}+k_{i,in}}{2m} - (\\frac{\\sum_{tot}+k_{i}}{2m})^2 \\big] - \\big[ \\frac{\\sum_{in}}{2m} - (\\frac{\\sum_{tot}}{2m})^2 - (\\frac{k_i}{2m})^2  \\big], \n",
        "$$\n",
        "\n",
        "where $\\sum_{in}$ is the sum of the weights of the links inside $C$, $\\sum_{tot}$ is the sum of the weights of the links incident to nodes (i.e. links that share a node) in $C$, $k_i$ is the sum of the weights of the links incident to node $i$, $k_{i,in}$ is the sum of the weights of the links from $i$ to nodes in $C$ and finally $m$ is the sum of the weights of all the links in the network. If there is no positive gain in modularity, $i$ stays in its community. This goes on in to there are no more movements of nodes to communites that would yield a positive gain in modularity.\n",
        "\n",
        "***Phase two***:\n",
        "The second phase consists in building a new network where the nodes are the communities found in phase one. The weights of the links between the nodes (former communities) in the new network are given by summing up the weights of the links between nodes in the two former communities. After the new network has been created phase one can be reapplied. The algorithm terminates when there are no more positive gain achieved to the modularity of the network. \n",
        "\n",
        "To begin identifying the communities, initially the entire undirected graph network (networkx.Graph()) is loaded and the largest connected component is extracted:"
      ]
    },
    {
      "cell_type": "markdown",
      "metadata": {
        "id": "_XvSBPnXIn6B"
      },
      "source": [
        "**Subreddit Frequency**\n",
        "\n",
        "Looking at the frequency of commented subreddits for users within communities will give an insight of how the communities have been partioned and reveal characteristics of the communities. "
      ]
    },
    {
      "cell_type": "markdown",
      "metadata": {
        "id": "pVRMV-7Q01Gr"
      },
      "source": [
        "**Sentiment analysis for alternative classification** \n"
      ]
    },
    {
      "cell_type": "markdown",
      "metadata": {
        "id": "J41gI5qOKDf5"
      },
      "source": [
        "Vis kal blive enige om noget her, Simon..."
      ]
    },
    {
      "cell_type": "markdown",
      "metadata": {
        "id": "TX-kkIAGM2Gh"
      },
      "source": [
        "#### 3.2.2.3 Results and discussion"
      ]
    },
    {
      "cell_type": "markdown",
      "metadata": {
        "id": "VYSaTWkQ2RS3"
      },
      "source": [
        "By looking at the Modularity score for the network  partitioning people based on the subreddit they have commented on, an estimate of how seperated the two groups activity on subreddit is. "
      ]
    },
    {
      "cell_type": "code",
      "metadata": {
        "colab": {
          "base_uri": "https://localhost:8080/"
        },
        "id": "2uyBjPcK6lbj",
        "outputId": "2b30236c-f29a-49d1-983d-7f3696ebe902"
      },
      "source": [
        "# Method to partition based on the 'from_subreddit' attribute\n",
        "def node_to_partition(graph, partitions):\n",
        "  ntp = {}\n",
        "  for idx, partition in enumerate(partitions):\n",
        "    nodes_in_partition = [node for node, data in graph.nodes(data=True) if data.get(\"from_subreddit\")==partition]\n",
        "    for node in nodes_in_partition:\n",
        "      ntp[node] = idx\n",
        "  return ntp\n",
        "\n",
        "# partion G into trump and biden partitions\n",
        "G_ntp = node_to_partition(G, [\"trump\", \"biden\"])\n",
        "\n",
        "# Calculate modularity for the entire network on the trump/biden partitioning in G\n",
        "G_modularity = community.modularity(G_ntp, G)\n",
        "\n",
        "print(f\"\\n\\nModularity for trump and biden partitioning on G: {G_modularity} \\n\")"
      ],
      "execution_count": null,
      "outputs": [
        {
          "output_type": "stream",
          "text": [
            "\n",
            "\n",
            "Modularity for trump and biden partitioning on G: 0.09175437865283112 \n",
            "\n"
          ],
          "name": "stdout"
        }
      ]
    },
    {
      "cell_type": "markdown",
      "metadata": {
        "id": "4BWJzfCFJDlz"
      },
      "source": [
        "This partinioning seems to deviate from randomness, but 0.9 is still too low to categorize this partitioning in subreddit commented as significant.\n",
        "\n",
        "This finding does not imply that there are no community structures what so ever. With the use of the Louvain algorithm the optimal partitioning can be found in the network to locate community structures regardless commented subreddet - revieling shared interests for both groups."
      ]
    },
    {
      "cell_type": "code",
      "metadata": {
        "colab": {
          "base_uri": "https://localhost:8080/"
        },
        "id": "29NnZ_ZF9vbD",
        "outputId": "86ea614c-cba8-4c1b-8ea1-d8b3f81bc30f"
      },
      "source": [
        "# Louvain used for community detection in G\n",
        "G_partition = community.best_partition(G, random_state=0)\n",
        "\n",
        "# Extract size of each community found by Louvain\n",
        "def get_community_sizes(partition_dict):\n",
        "  D = partition_dict\n",
        "  communities = set(D.values())\n",
        "  community_sizes = []\n",
        "  for k in range(len(communities)):\n",
        "    size = sum(map((k).__eq__, D.values()))\n",
        "    community_sizes.append(size)\n",
        "  return community_sizes\n",
        "\n",
        "G_community_size = get_community_sizes(G_partition)\n",
        "\n",
        "print(f\"Number of communities found: {len(G_community_size)}\")"
      ],
      "execution_count": null,
      "outputs": [
        {
          "output_type": "stream",
          "text": [
            "Number of communities found: 6\n"
          ],
          "name": "stdout"
        }
      ]
    },
    {
      "cell_type": "markdown",
      "metadata": {
        "id": "gm1XUBz3WUsL"
      },
      "source": [
        "Visulization of detected communities"
      ]
    },
    {
      "cell_type": "code",
      "metadata": {
        "colab": {
          "base_uri": "https://localhost:8080/",
          "height": 469
        },
        "id": "IFblp3oiQpPN",
        "outputId": "e03c5c11-9133-4b28-f6af-f1298d6caf79"
      },
      "source": [
        "# Calculate numbers of trump subreddit comments in a community \n",
        "def candidateComments(community, G, partition, candidate):\n",
        "  count = 0\n",
        "  for node in G.nodes:\n",
        "    if G.nodes[node]['from_subreddit'] == candidate and partition[node] == community:\n",
        "      count = count + 1\n",
        "  return count\n",
        "\n",
        "# Make barplot collored according to candidate subreddit\n",
        "def plotBarplot(trumps, bidens):\n",
        "  index = np.arange(len(trumps))\n",
        "  width = 0.6\n",
        "  ticks = ('1', '2', '3', '4', '5', '6')\n",
        "\n",
        "  # Generate Bar plots\n",
        "  plt.figure(figsize=(12,5))\n",
        "  p1 = plt.bar(index, trumps, width, color ='crimson')\n",
        "  p2 = plt.bar(index, bidens, width, color ='dodgerblue', bottom=trumps)\n",
        "\n",
        "  # Plot\n",
        "  plt.title(\"Bar plot showing the distribution of community sizes\")\n",
        "  plt.xlabel(\"Community name\")\n",
        "  plt.ylabel(\"Nodes in community\")\n",
        "  plt.xticks(index, ticks[:len(trumps)])                                                            ### lav generisk\n",
        "  plt.legend((p1[0], p2[0]), ('Biden Comments', 'Trump Comments'))\n",
        "  plt.show()\n",
        "\n",
        "\n",
        "# Calculate numbers of candidate specific comments in each community \n",
        "G_trump_comments = np.array([candidateComments(i, G, G_partition, 'trump') for i in np.arange(len(G_community_size))])\n",
        "G_biden_comments = np.array([candidateComments(i, G, G_partition, 'biden') for i in np.arange(len(G_community_size))])\n",
        "\n",
        "plotBarplot(G_trump_comments, G_biden_comments)\n",
        "\n",
        "print(f\"Sizes of communities: {G_community_size}\\n\")\n",
        "print(f\"Percentages for each community: \\n Trump comments: {np.round(G_trump_comments/G_community_size, 2)}\\n Biden comments: {np.round(G_biden_comments/G_community_size,2)}\" )\n",
        "print(f\"\\nModularity for Louvain partitoning: {community.modularity(G_partition, G)}\")"
      ],
      "execution_count": null,
      "outputs": [
        {
          "output_type": "display_data",
          "data": {
            "image/png": "[encoded data removed]",
            "text/plain": [
              "<Figure size 864x360 with 1 Axes>"
            ]
          },
          "metadata": {
            "tags": [],
            "needs_background": "light"
          }
        },
        {
          "output_type": "stream",
          "text": [
            "Sizes of communities: [743, 665, 461, 465, 4, 3]\n",
            "\n",
            "Percentages for each community: \n",
            " Trump comments: [0.21 0.78 0.59 0.43 1.   0.  ]\n",
            " Biden comments: [0.79 0.22 0.41 0.57 0.   1.  ]\n",
            "\n",
            "Modularity for Louvain partitoning: 0.3169470769008109\n"
          ],
          "name": "stdout"
        }
      ]
    },
    {
      "cell_type": "markdown",
      "metadata": {
        "id": "tAn6i70BakQj"
      },
      "source": [
        "From this plot it seems that users in some of the communities found correlates with the commented candidate subreddit (community 1,2,5,6). Furthermore the modularity score is above the threshold 0.3, meaning this partioning has a significant structure within the network."
      ]
    },
    {
      "cell_type": "markdown",
      "metadata": {
        "id": "q-waLV2c3fHf"
      },
      "source": [
        "Looking into the top common subreddits in each community, the following structures can be found:"
      ]
    },
    {
      "cell_type": "code",
      "metadata": {
        "id": "9fUe1gvq28Z2"
      },
      "source": [
        "def extractUsersFromCommunity(community):\n",
        "  community_1 = []\n",
        "  for user in df['user']:\n",
        "    try:\n",
        "      if G_partition[user] is community:\n",
        "        community_1.append(user)\n",
        "    except:\n",
        "      continue\n",
        "  return community_1\n",
        "\n",
        "def extractRedditsFromCommunity(community):\n",
        "  subreddits = []\n",
        "  reddit_counter = {}\n",
        "  df_com = df.loc[df['user'].isin(community)].iloc[:, 2:4].copy()\n",
        "  \n",
        "  for subred in df_com['used_subreddits']:\n",
        "    com1 = set(json.loads(subred))\n",
        "    subreddits+=list(com1)\n",
        "  \n",
        "  community_TF_raw = nltk.FreqDist(subreddits)  #return popular_reddits, reddit_counter\n",
        "  return community_TF_raw\n",
        "\n",
        "def redditFrequency(community_index):\n",
        "  com = extractRedditsFromCommunity(extractUsersFromCommunity(community_index))\n",
        "  com_list = [(v, k) for (v,k) in com.items() if v not in [\"biden\", \"trump\"]]\n",
        "  sorted_RF = (sorted(com_list, key=lambda x: x[1], reverse=True)[:20])\n",
        "  return sorted_RF\n"
      ],
      "execution_count": null,
      "outputs": []
    },
    {
      "cell_type": "code",
      "metadata": {
        "colab": {
          "base_uri": "https://localhost:8080/",
          "height": 1000
        },
        "id": "COlpkyqmY5X6",
        "outputId": "edabfd1c-0ad3-4e4b-ea46-419b751516de"
      },
      "source": [
        "reddit_freqs = list(zip(redditFrequency(0),redditFrequency(1),redditFrequency(2),redditFrequency(3),redditFrequency(4),redditFrequency(5))) \n",
        "df_lol = pd.DataFrame(reddit_freqs,\n",
        "                  columns = ['Community 1','Community 2','Community 3','Community 4','Community 5','Community 6'])\n",
        "df_lol\n"
      ],
      "execution_count": null,
      "outputs": [
        {
          "output_type": "execute_result",
          "data": {
            "text/html": [
              "<div>\n",
              "<style scoped>\n",
              "    .dataframe tbody tr th:only-of-type {\n",
              "        vertical-align: middle;\n",
              "    }\n",
              "\n",
              "    .dataframe tbody tr th {\n",
              "        vertical-align: top;\n",
              "    }\n",
              "\n",
              "    .dataframe thead th {\n",
              "        text-align: right;\n",
              "    }\n",
              "</style>\n",
              "<table border=\"1\" class=\"dataframe\">\n",
              "  <thead>\n",
              "    <tr style=\"text-align: right;\">\n",
              "      <th></th>\n",
              "      <th>Community 1</th>\n",
              "      <th>Community 2</th>\n",
              "      <th>Community 3</th>\n",
              "      <th>Community 4</th>\n",
              "      <th>Community 5</th>\n",
              "      <th>Community 6</th>\n",
              "    </tr>\n",
              "  </thead>\n",
              "  <tbody>\n",
              "    <tr>\n",
              "      <th>0</th>\n",
              "      <td>(Politics, 566)</td>\n",
              "      <td>(Conservative, 281)</td>\n",
              "      <td>(Ask Reddit..., 226)</td>\n",
              "      <td>(Ask Reddit..., 337)</td>\n",
              "      <td>(Conservative, 3)</td>\n",
              "      <td>(Reddit Parenting - For those with kids of any...</td>\n",
              "    </tr>\n",
              "    <tr>\n",
              "      <th>1</th>\n",
              "      <td>(All news, US and international., 302)</td>\n",
              "      <td>(Ask Reddit..., 199)</td>\n",
              "      <td>(/r/PublicFreakout, 156)</td>\n",
              "      <td>(Reddit Pics, 284)</td>\n",
              "      <td>(/r/XboxOne - The home of everything Xbox One ...</td>\n",
              "      <td>(Breaking Mom - chocolate &amp; whine, 3)</td>\n",
              "    </tr>\n",
              "    <tr>\n",
              "      <th>2</th>\n",
              "      <td>(World News, 268)</td>\n",
              "      <td>(/r/Memes the original since 2008, 189)</td>\n",
              "      <td>(funny, 143)</td>\n",
              "      <td>(Today I Learned (TIL), 234)</td>\n",
              "      <td>(WoW: Classic, 2)</td>\n",
              "      <td>(Eating healthy on a cheap budget, 2)</td>\n",
              "    </tr>\n",
              "    <tr>\n",
              "      <th>3</th>\n",
              "      <td>(Ask Reddit..., 256)</td>\n",
              "      <td>(dankmemes, 144)</td>\n",
              "      <td>(Interesting As Fuck, 123)</td>\n",
              "      <td>(funny, 231)</td>\n",
              "      <td>(World of Warcraft, 2)</td>\n",
              "      <td>(BabyBumps Graduates, 2)</td>\n",
              "    </tr>\n",
              "    <tr>\n",
              "      <th>4</th>\n",
              "      <td>(/r/PublicFreakout, 174)</td>\n",
              "      <td>(For your Opinions that are Unpopular , 106)</td>\n",
              "      <td>(Conservative, 121)</td>\n",
              "      <td>(All news, US and international., 225)</td>\n",
              "      <td>(r/gaming, 2)</td>\n",
              "      <td>(Relationships, 2)</td>\n",
              "    </tr>\n",
              "    <tr>\n",
              "      <th>5</th>\n",
              "      <td>(Novel Coronavirus (COVID-19), 169)</td>\n",
              "      <td>(Tucker Carlson: The Sworn Enemy of Lying, Pom...</td>\n",
              "      <td>(Reddit Pics, 119)</td>\n",
              "      <td>(Politics, 197)</td>\n",
              "      <td>(Dark Souls 2, 2)</td>\n",
              "      <td>(RuPaul's Drag Race, 1)</td>\n",
              "    </tr>\n",
              "    <tr>\n",
              "      <th>6</th>\n",
              "      <td>(2020 Political Hindsight - a Donald Trump lov...</td>\n",
              "      <td>(Political Compass Memes, 90)</td>\n",
              "      <td>(A subreddit for cute and cuddly pictures, 110)</td>\n",
              "      <td>(World News, 193)</td>\n",
              "      <td>(NFL: National Football League Discussion, 2)</td>\n",
              "      <td>(Stop MLM schemes from draining your friends d...</td>\n",
              "    </tr>\n",
              "    <tr>\n",
              "      <th>7</th>\n",
              "      <td>(Reddit Pics, 142)</td>\n",
              "      <td>(Politics, 84)</td>\n",
              "      <td>(All things Trashy!, 108)</td>\n",
              "      <td>(/r/videos, 173)</td>\n",
              "      <td>(/r/Bloodborne, 2)</td>\n",
              "      <td>(For cautious pregnant Mommas on this great pe...</td>\n",
              "    </tr>\n",
              "    <tr>\n",
              "      <th>8</th>\n",
              "      <td>(White People Twitter, 125)</td>\n",
              "      <td>(r/teenagers, 82)</td>\n",
              "      <td>(Politics, 99)</td>\n",
              "      <td>(Movie News and Discussion, 153)</td>\n",
              "      <td>(Dark Souls 3, 2)</td>\n",
              "      <td>(Female Fashion Advice, 1)</td>\n",
              "    </tr>\n",
              "    <tr>\n",
              "      <th>9</th>\n",
              "      <td>(Today I Learned (TIL), 121)</td>\n",
              "      <td>(A sub for Historymemes, 82)</td>\n",
              "      <td>(What Could Possibly Go Wrong?, 98)</td>\n",
              "      <td>(r/gaming, 150)</td>\n",
              "      <td>(PlayStation, 2)</td>\n",
              "      <td>(shittyfoodporn, 1)</td>\n",
              "    </tr>\n",
              "    <tr>\n",
              "      <th>10</th>\n",
              "      <td>(The Ideological Trashcan, 113)</td>\n",
              "      <td>(conspiracy, 79)</td>\n",
              "      <td>(Watch People Die Inside, 98)</td>\n",
              "      <td>(.gifs - funny, animated gifs for your viewing...</td>\n",
              "      <td>(Idiots In Cars, 1)</td>\n",
              "      <td>(Delaware, 1)</td>\n",
              "    </tr>\n",
              "    <tr>\n",
              "      <th>11</th>\n",
              "      <td>(Insane People on Facebook, 105)</td>\n",
              "      <td>(AskThe_Donald, 77)</td>\n",
              "      <td>(Well... That sucks..., 86)</td>\n",
              "      <td>(A subreddit for cute and cuddly pictures, 127)</td>\n",
              "      <td>(Showerthoughts, 1)</td>\n",
              "      <td>(Aldi, 1)</td>\n",
              "    </tr>\n",
              "    <tr>\n",
              "      <th>12</th>\n",
              "      <td>(A gallery of inexplicable stupidity, 101)</td>\n",
              "      <td>(WalkAway, 75)</td>\n",
              "      <td>(⬆ Next Fucking Level ⬆, 83)</td>\n",
              "      <td>(WTF?!, 112)</td>\n",
              "      <td>(Life Pro Tips, 1)</td>\n",
              "      <td>(Everything about the toddler years, 1)</td>\n",
              "    </tr>\n",
              "    <tr>\n",
              "      <th>13</th>\n",
              "      <td>(Sadly, this is not the Onion., 97)</td>\n",
              "      <td>(All posts must be related to gun politics; ci...</td>\n",
              "      <td>(WTF?!, 76)</td>\n",
              "      <td>(Advice Animals, 111)</td>\n",
              "      <td>(Reddit Science, 1)</td>\n",
              "      <td>(UNHhhh, 1)</td>\n",
              "    </tr>\n",
              "    <tr>\n",
              "      <th>14</th>\n",
              "      <td>(funny, 76)</td>\n",
              "      <td>(r/gaming, 71)</td>\n",
              "      <td>(Let's hope you didn't vote for the pedo, 72)</td>\n",
              "      <td>(/r/Technology , 95)</td>\n",
              "      <td>(Christianity, 1)</td>\n",
              "      <td>(/r/videos, 1)</td>\n",
              "    </tr>\n",
              "    <tr>\n",
              "      <th>15</th>\n",
              "      <td>(I never thought leopards would eat MY face, 75)</td>\n",
              "      <td>(Steven Crowder, 70)</td>\n",
              "      <td>(Today I Learned (TIL), 72)</td>\n",
              "      <td>(Sadly, this is not the Onion., 90)</td>\n",
              "      <td>(A subreddit for followers of Jesus Christ., 1)</td>\n",
              "      <td>(Dark Netflix Original Series, 1)</td>\n",
              "    </tr>\n",
              "    <tr>\n",
              "      <th>16</th>\n",
              "      <td>(Movie News and Discussion, 73)</td>\n",
              "      <td>(PrequelMemes - Memes of the Star Wars Prequel...</td>\n",
              "      <td>(World News, 71)</td>\n",
              "      <td>(Television News and Discussion, 85)</td>\n",
              "      <td>(Bob's Burgers, 1)</td>\n",
              "      <td>(Baby Bumps, 1)</td>\n",
              "    </tr>\n",
              "    <tr>\n",
              "      <th>17</th>\n",
              "      <td>(Interesting As Fuck, 72)</td>\n",
              "      <td>(Cringetopia, 62)</td>\n",
              "      <td>(People who actively act like a piece of shit,...</td>\n",
              "      <td>(IAmA, 81)</td>\n",
              "      <td>(Minnesota, United States (MN) - the front pag...</td>\n",
              "      <td>(Trying to Conceive (TTC) After a Loss, 1)</td>\n",
              "    </tr>\n",
              "    <tr>\n",
              "      <th>18</th>\n",
              "      <td>(Democrats: Unite for a Better Future, 72)</td>\n",
              "      <td>(All news, US and international., 61)</td>\n",
              "      <td>(Idiots In Cars, 67)</td>\n",
              "      <td>(For photos that are, you know, mildly interes...</td>\n",
              "      <td>(/r/Stellaris, 1)</td>\n",
              "      <td>(One and Done, 1)</td>\n",
              "    </tr>\n",
              "    <tr>\n",
              "      <th>19</th>\n",
              "      <td>(atheism, 65)</td>\n",
              "      <td>(/r/PewdiepieSubmissions, 61)</td>\n",
              "      <td>(/r/Memes the original since 2008, 65)</td>\n",
              "      <td>(OldSchoolCool: History's cool kids, looking f...</td>\n",
              "      <td>(SKOL, 1)</td>\n",
              "      <td>(Game of Thrones, 1)</td>\n",
              "    </tr>\n",
              "  </tbody>\n",
              "</table>\n",
              "</div>"
            ],
            "text/plain": [
              "                                          Community 1  ...                                        Community 6\n",
              "0                                     (Politics, 566)  ...  (Reddit Parenting - For those with kids of any...\n",
              "1              (All news, US and international., 302)  ...              (Breaking Mom - chocolate & whine, 3)\n",
              "2                                   (World News, 268)  ...              (Eating healthy on a cheap budget, 2)\n",
              "3                                (Ask Reddit..., 256)  ...                           (BabyBumps Graduates, 2)\n",
              "4                            (/r/PublicFreakout, 174)  ...                                 (Relationships, 2)\n",
              "5                 (Novel Coronavirus (COVID-19), 169)  ...                            (RuPaul's Drag Race, 1)\n",
              "6   (2020 Political Hindsight - a Donald Trump lov...  ...  (Stop MLM schemes from draining your friends d...\n",
              "7                                  (Reddit Pics, 142)  ...  (For cautious pregnant Mommas on this great pe...\n",
              "8                         (White People Twitter, 125)  ...                         (Female Fashion Advice, 1)\n",
              "9                        (Today I Learned (TIL), 121)  ...                                (shittyfoodporn, 1)\n",
              "10                    (The Ideological Trashcan, 113)  ...                                      (Delaware, 1)\n",
              "11                   (Insane People on Facebook, 105)  ...                                          (Aldi, 1)\n",
              "12         (A gallery of inexplicable stupidity, 101)  ...            (Everything about the toddler years, 1)\n",
              "13                (Sadly, this is not the Onion., 97)  ...                                        (UNHhhh, 1)\n",
              "14                                        (funny, 76)  ...                                     (/r/videos, 1)\n",
              "15   (I never thought leopards would eat MY face, 75)  ...                  (Dark Netflix Original Series, 1)\n",
              "16                    (Movie News and Discussion, 73)  ...                                    (Baby Bumps, 1)\n",
              "17                          (Interesting As Fuck, 72)  ...         (Trying to Conceive (TTC) After a Loss, 1)\n",
              "18         (Democrats: Unite for a Better Future, 72)  ...                                  (One and Done, 1)\n",
              "19                                      (atheism, 65)  ...                               (Game of Thrones, 1)\n",
              "\n",
              "[20 rows x 6 columns]"
            ]
          },
          "metadata": {
            "tags": []
          },
          "execution_count": 336
        }
      ]
    },
    {
      "cell_type": "markdown",
      "metadata": {
        "id": "smFft-sDKv8K"
      },
      "source": [
        "Investigating the top 20 most commented subreddits within each community leeds to some interesting findings:\n",
        "\n",
        "1. Some subreddits appear in the different communities but in very similiar numbers e.g. 'Ask redit'. In a likely scenario were these subreddits are randomly distributed among users in the network. this would work as a moderator for the modularity score pushing it towards zero, since the edges contribution to the score is relative and is also why the modularity stays within the range $[-1\\ ;1]$. Removing these \"noisy\" subreddits would thereby increase the significants of the community structure.\n",
        "\n",
        "2. "
      ]
    }
  ]
}